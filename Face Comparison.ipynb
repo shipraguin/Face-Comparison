{
 "cells": [
  {
   "cell_type": "markdown",
   "metadata": {},
   "source": [
    "# Break Video into Frames"
   ]
  },
  {
   "cell_type": "code",
   "execution_count": null,
   "metadata": {},
   "outputs": [],
   "source": [
    "import face_recognition\n",
    "import cv2\n",
    "import os\n",
    "from moviepy.editor import VideoFileClip\n",
    "\n",
    "#list1=[]\n",
    "#list2=[]\n",
    "\n",
    "clip = VideoFileClip(\"D:text/Face Detection/output1.avi\")\n",
    "a=int(clip.duration )\n",
    "print(\"Comparing %d Images.....\"%a)\n",
    "\n",
    "picture_of_me = face_recognition.load_image_file(\"D:text/Face Detection/z6.jpg\")\n",
    "my_face_encoding = face_recognition.face_encodings(picture_of_me)[0]\n",
    "count1=0\n",
    "count2=0\n",
    "filename=\"D:text/Face Detection/Faces1\"\n",
    "for i in range(1, a+1):\n",
    "    #filename=\"D:text/Face Detection/Faces/\"\n",
    "    img=os.path.join(filename ,'image_%d.jpg'%i)\n",
    "    unknown_picture = face_recognition.load_image_file(img)\n",
    "    \n",
    "    for unknown_face_encoding in face_recognition.face_encodings(unknown_picture):\n",
    "\n",
    "        results = face_recognition.compare_faces([my_face_encoding], unknown_face_encoding)\n",
    "        distance = face_recognition.face_distance([my_face_encoding], unknown_face_encoding)\n",
    "        print(distance)\n",
    "        if (results[0] == True and distance<0.46):\n",
    "            count1=count1+1\n",
    "            #list1.append(i)\n",
    "            print(\"Image_%d and IDCard Image are of the *SAME* person\"%i)\n",
    "        else:\n",
    "            count2=count2+1\n",
    "            print(\"Image_%d and IDCard Image are of *DIFFERENT* person\"%i)\n",
    "            \n",
    "            \n",
    "print(\"==============================CONCLUSION==============================\")\n",
    "if(count1>=count2):\n",
    "    print(\"Both the persons are SAME\")\n",
    "elif(count1<count2):\n",
    "    print(\"Both the persons are DIFFERENT\")\n",
    "print(\"======================================================================\")"
   ]
  }
 ],
 "metadata": {
  "kernelspec": {
   "display_name": "Python 3",
   "language": "python",
   "name": "python3"
  },
  "language_info": {
   "codemirror_mode": {
    "name": "ipython",
    "version": 3
   },
   "file_extension": ".py",
   "mimetype": "text/x-python",
   "name": "python",
   "nbconvert_exporter": "python",
   "pygments_lexer": "ipython3",
   "version": "3.8.3"
  }
 },
 "nbformat": 4,
 "nbformat_minor": 4
}
