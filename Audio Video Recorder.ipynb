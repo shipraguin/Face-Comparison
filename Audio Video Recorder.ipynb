{
 "cells": [
  {
   "cell_type": "markdown",
   "metadata": {},
   "source": [
    "# Recording Audio and Video"
   ]
  },
  {
   "cell_type": "code",
   "execution_count": null,
   "metadata": {},
   "outputs": [],
   "source": [
    "from threading import Thread\n",
    "import sounddevice as sd\n",
    "from scipy.io.wavfile import write\n",
    "import cv2\n",
    "import time\n",
    "import random\n",
    "\n",
    "def func1():\n",
    "    cam = cv2.VideoCapture(0)\n",
    "    cam.set(cv2.CAP_PROP_FRAME_WIDTH, 1280)\n",
    "    cam.set(cv2.CAP_PROP_FRAME_HEIGHT, 720)\n",
    "    fourcc = cv2.VideoWriter_fourcc(*'XVID')\n",
    "    videoout = cv2.VideoWriter(\"D:text/Face Detection/output1.avi\", fourcc, cam.get(cv2.CAP_PROP_FPS), (1280, 720))\n",
    "    start = time.time()\n",
    "    n=random.randint(100,999)\n",
    "    print(n)\n",
    "    while True:\n",
    "        ret, frame = cam.read()\n",
    "        if time.time() - start < 20:\n",
    "            frame = cv2.flip(frame,90)\n",
    "            videoout.write(frame)\n",
    "            font=cv2.FONT_HERSHEY_DUPLEX\n",
    "            if(time.time() - start >= 1 and time.time() - start < 20):\n",
    "                frame=cv2.putText(frame, \"Please Call out this Number\", (400, 60), font, 1, color=(0, 0, 0), thickness=2)\n",
    "            text = str(n)\n",
    "            if(time.time() - start > 6 and time.time() - start < 20):\n",
    "                frame=cv2.putText(frame, text, (320, 460), font, 10, color=(0, 0, 0), thickness=6)\n",
    "            cv2.imshow('frame',frame)\n",
    "            if cv2.waitKey(1) & 0xFF == ord('q'):\n",
    "                break\n",
    "        else:\n",
    "            break\n",
    "        \n",
    "    cam.release()\n",
    "    videoout.release()\n",
    "    cv2.destroyAllWindows()\n",
    "\n",
    "def func2():\n",
    "    \n",
    "    fs = 44100  # Sample rate\n",
    "    seconds = 20  # Duration of recording\n",
    "\n",
    "    myrecording = sd.rec(int(seconds * fs), samplerate=fs, channels=2)\n",
    "    sd.wait()  \n",
    "    write('D:text/Face Detection/audio1.mp3', fs, myrecording)  \n",
    "\n",
    "if __name__ == '__main__':\n",
    "    Thread(target = func1).start()\n",
    "    Thread(target = func2).start()"
   ]
  }
 ],
 "metadata": {
  "kernelspec": {
   "display_name": "Python 3",
   "language": "python",
   "name": "python3"
  },
  "language_info": {
   "codemirror_mode": {
    "name": "ipython",
    "version": 3
   },
   "file_extension": ".py",
   "mimetype": "text/x-python",
   "name": "python",
   "nbconvert_exporter": "python",
   "pygments_lexer": "ipython3",
   "version": "3.8.3"
  }
 },
 "nbformat": 4,
 "nbformat_minor": 4
}
